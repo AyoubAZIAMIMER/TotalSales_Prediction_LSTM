{
 "cells": [
  {
   "cell_type": "code",
   "execution_count": 67,
   "metadata": {},
   "outputs": [],
   "source": [
    "import pandas as pd\n"
   ]
  },
  {
   "cell_type": "markdown",
   "metadata": {},
   "source": [
    "## IMPORTING THE DATA"
   ]
  },
  {
   "cell_type": "code",
   "execution_count": 68,
   "metadata": {},
   "outputs": [
    {
     "name": "stdout",
     "output_type": "stream",
     "text": [
      "   InvoiceID        Date  ProductID  TotalSales    Discount  CustomerID  \\\n",
      "0        328  2019-12-27       1684  796.610169  143.389831         185   \n",
      "1        329  2019-12-27        524  355.932203   64.067797         185   \n",
      "2        330  2019-12-27        192  901.694915  162.305085         230   \n",
      "3        330  2019-12-27        218  182.754237   32.895763         230   \n",
      "4        330  2019-12-27        247  780.101695  140.418305         230   \n",
      "\n",
      "   Quantity  \n",
      "0         4  \n",
      "1         2  \n",
      "2         4  \n",
      "3         1  \n",
      "4         4  \n"
     ]
    }
   ],
   "source": [
    "# Using a raw string\n",
    "data = pd.read_csv(\"C:\\\\Users\\\\Dell G3\\\\Documents\\\\PYTHON Projects\\\\Projects\\\\retailData\\\\file_out2.csv\", index_col=0)\n",
    "\n",
    "#5 first rows\n",
    "print(data.head())"
   ]
  },
  {
   "cell_type": "markdown",
   "metadata": {},
   "source": [
    "## PREPROCESSING THE DATA"
   ]
  },
  {
   "cell_type": "code",
   "execution_count": 69,
   "metadata": {},
   "outputs": [
    {
     "name": "stdout",
     "output_type": "stream",
     "text": [
      "<class 'pandas.core.frame.DataFrame'>\n",
      "Index: 29103 entries, 0 to 29102\n",
      "Data columns (total 7 columns):\n",
      " #   Column      Non-Null Count  Dtype  \n",
      "---  ------      --------------  -----  \n",
      " 0   InvoiceID   29103 non-null  int64  \n",
      " 1   Date        29103 non-null  object \n",
      " 2   ProductID   29103 non-null  int64  \n",
      " 3   TotalSales  29103 non-null  float64\n",
      " 4   Discount    29103 non-null  float64\n",
      " 5   CustomerID  29103 non-null  int64  \n",
      " 6   Quantity    29103 non-null  int64  \n",
      "dtypes: float64(2), int64(4), object(1)\n",
      "memory usage: 1.8+ MB\n",
      "None\n"
     ]
    }
   ],
   "source": [
    "#Get info of the data\n",
    "print(data.info())"
   ]
  },
  {
   "cell_type": "code",
   "execution_count": 70,
   "metadata": {},
   "outputs": [
    {
     "name": "stdout",
     "output_type": "stream",
     "text": [
      "          InvoiceID     ProductID     TotalSales      Discount    CustomerID  \\\n",
      "count  29103.000000  29103.000000   29103.000000  29103.000000  29103.000000   \n",
      "mean    7221.321445    869.953819    2552.679147    451.325294    247.290279   \n",
      "std     3443.397539    583.414204    4568.256400    650.359457    138.701207   \n",
      "min        0.000000      0.000000       0.000000     -0.004694      0.000000   \n",
      "25%     4919.000000    379.000000     779.661017    137.288136    134.000000   \n",
      "50%     7588.000000    660.000000    1366.101695    244.067797    230.000000   \n",
      "75%     9536.000000   1456.000000    2847.457627    508.658644    349.000000   \n",
      "max    14078.000000   1939.000000  332574.460000  14110.169492    506.000000   \n",
      "\n",
      "           Quantity  \n",
      "count  29103.000000  \n",
      "mean       5.440367  \n",
      "std        6.804637  \n",
      "min        0.000000  \n",
      "25%        2.000000  \n",
      "50%        4.000000  \n",
      "75%        4.000000  \n",
      "max      250.000000  \n"
     ]
    }
   ],
   "source": [
    "#Describing the data\n",
    "print(data.describe())"
   ]
  },
  {
   "cell_type": "code",
   "execution_count": 71,
   "metadata": {},
   "outputs": [
    {
     "name": "stdout",
     "output_type": "stream",
     "text": [
      "InvoiceID     0\n",
      "Date          0\n",
      "ProductID     0\n",
      "TotalSales    0\n",
      "Discount      0\n",
      "CustomerID    0\n",
      "Quantity      0\n",
      "dtype: int64\n"
     ]
    }
   ],
   "source": [
    "#checking if there is missing values\n",
    "print(data.isnull().sum())"
   ]
  },
  {
   "cell_type": "code",
   "execution_count": 72,
   "metadata": {},
   "outputs": [
    {
     "name": "stdout",
     "output_type": "stream",
     "text": [
      "datetime64[ns]\n"
     ]
    }
   ],
   "source": [
    "#Converting to Date format\n",
    "data[\"Date\"] = pd.to_datetime(data[\"Date\"], errors = \"coerce\") \n",
    "data[\"Day\"] = data[\"Date\"].dt.day\n",
    "data[\"Month\"] = data[\"Date\"].dt.month\n",
    "data[\"Year\"] = data[\"Date\"].dt.year\n",
    "\n",
    "print(data[\"Date\"].dtype)\n"
   ]
  },
  {
   "cell_type": "code",
   "execution_count": 73,
   "metadata": {},
   "outputs": [
    {
     "name": "stdout",
     "output_type": "stream",
     "text": [
      "192\n"
     ]
    }
   ],
   "source": [
    "#Most taken product\n",
    "product_counts = data.value_counts(\"ProductID\")\n",
    "most_taken_product = product_counts.idxmax()\n",
    "print(most_taken_product)"
   ]
  },
  {
   "cell_type": "code",
   "execution_count": 74,
   "metadata": {},
   "outputs": [],
   "source": [
    "from sklearn.preprocessing import MinMaxScaler\n",
    "\n",
    "#Selecting relevent features\n",
    "features = data[[\"Day\", \"Month\", \"Year\", \"ProductID\", \"Discount\", \"CustomerID\", \"Quantity\"]]\n",
    "target = data[\"TotalSales\"]\n",
    "\n",
    "#Scaling features\n",
    "scaler = MinMaxScaler()\n",
    "scaled_features = scaler.fit_transform(features)\n",
    "scaled_target = scaler.fit_transform(target.values.reshape(-1, 1)).flatten()\n"
   ]
  },
  {
   "cell_type": "markdown",
   "metadata": {},
   "source": [
    "## TIME SERIES FORMATTING"
   ]
  },
  {
   "cell_type": "code",
   "execution_count": 75,
   "metadata": {},
   "outputs": [
    {
     "name": "stdout",
     "output_type": "stream",
     "text": [
      "       InvoiceID       Date  ProductID   TotalSales     Discount  CustomerID  \\\n",
      "3605        2661 2019-01-02        901   621.533898   111.876102         189   \n",
      "3624        2673 2019-01-02       1128   796.610169   143.389831         499   \n",
      "3623        2673 2019-01-02        883   830.508475   149.491525         499   \n",
      "3622        2673 2019-01-02        885   762.711864   137.288136         499   \n",
      "3621        2672 2019-01-02        823   610.169492   109.830508          66   \n",
      "...          ...        ...        ...          ...          ...         ...   \n",
      "28678      14025 2023-03-25       1609  2542.372881   457.627119         290   \n",
      "28677      14024 2023-03-25       1510  5374.271186   967.368814          21   \n",
      "28676      14023 2023-03-25        627  3073.728814   553.271186         230   \n",
      "28696      11573 2023-03-25       1443  2906.779661   523.220339         429   \n",
      "28686      11563 2023-03-25        210  6561.016949  1180.983051         250   \n",
      "\n",
      "       Quantity  Day  Month  Year  \n",
      "3605          1    2      1  2019  \n",
      "3624          4    2      1  2019  \n",
      "3623          4    2      1  2019  \n",
      "3622          4    2      1  2019  \n",
      "3621          4    2      1  2019  \n",
      "...         ...  ...    ...   ...  \n",
      "28678         3   25      3  2023  \n",
      "28677         4   25      3  2023  \n",
      "28676         4   25      3  2023  \n",
      "28696         2   25      3  2023  \n",
      "28686         4   25      3  2023  \n",
      "\n",
      "[29103 rows x 10 columns]\n"
     ]
    }
   ],
   "source": [
    "print(data.sort_values(\"Date\"))"
   ]
  },
  {
   "cell_type": "code",
   "execution_count": 76,
   "metadata": {},
   "outputs": [],
   "source": [
    "import numpy as np\n",
    "from sklearn.model_selection import train_test_split\n",
    "\n",
    "#Create sequences for LSTM\n",
    "sequence_length = 10\n",
    "sequences = []\n",
    "targets = []\n",
    "\n",
    "for i in range(len(scaled_features) - sequence_length):\n",
    "    sequences.append(scaled_features[i:i+sequence_length])\n",
    "    targets.append(scaled_target[i + sequence_length])\n",
    "    \n",
    "X = np.array(sequences)\n",
    "y = np.array(targets)  \n",
    "\n",
    "#Splitting data\n",
    "X_train, X_test, y_train, y_test = train_test_split(X, y, test_size= 0.2, random_state= 42)"
   ]
  },
  {
   "cell_type": "markdown",
   "metadata": {},
   "source": [
    "## MODEL ARCHITECTURE"
   ]
  },
  {
   "cell_type": "code",
   "execution_count": 77,
   "metadata": {},
   "outputs": [],
   "source": [
    "from tensorflow.keras.models import Sequential\n",
    "from tensorflow.keras.layers import LSTM, Dense\n",
    "\n",
    "# Build LSTM model\n",
    "model = Sequential()\n",
    "model.add(LSTM(units=50, activation='relu', input_shape=(X_train.shape[1], X_train.shape[2])))\n",
    "model.add(Dense(units=1))  # Assuming you want to predict a single value (total sales)\n",
    "\n",
    "model.compile(optimizer='adam', loss='mse')  # Use Mean Squared Error for regression tasks"
   ]
  },
  {
   "cell_type": "markdown",
   "metadata": {},
   "source": [
    "## TRAINING THE MODEL"
   ]
  },
  {
   "cell_type": "code",
   "execution_count": 78,
   "metadata": {},
   "outputs": [
    {
     "name": "stdout",
     "output_type": "stream",
     "text": [
      "Epoch 1/50\n"
     ]
    },
    {
     "name": "stdout",
     "output_type": "stream",
     "text": [
      "728/728 [==============================] - 5s 4ms/step - loss: 2.2214e-04 - val_loss: 9.4236e-05\n",
      "Epoch 2/50\n",
      "728/728 [==============================] - 3s 4ms/step - loss: 1.9176e-04 - val_loss: 9.2941e-05\n",
      "Epoch 3/50\n",
      "728/728 [==============================] - 3s 4ms/step - loss: 1.8787e-04 - val_loss: 9.1297e-05\n",
      "Epoch 4/50\n",
      "728/728 [==============================] - 3s 4ms/step - loss: 1.8494e-04 - val_loss: 9.2543e-05\n",
      "Epoch 5/50\n",
      "728/728 [==============================] - 3s 4ms/step - loss: 1.8433e-04 - val_loss: 9.3953e-05\n",
      "Epoch 6/50\n",
      "728/728 [==============================] - 3s 4ms/step - loss: 1.8180e-04 - val_loss: 9.0005e-05\n",
      "Epoch 7/50\n",
      "728/728 [==============================] - 3s 4ms/step - loss: 1.8365e-04 - val_loss: 8.8554e-05\n",
      "Epoch 8/50\n",
      "728/728 [==============================] - 3s 4ms/step - loss: 1.8038e-04 - val_loss: 8.7344e-05\n",
      "Epoch 9/50\n",
      "728/728 [==============================] - 3s 4ms/step - loss: 1.7986e-04 - val_loss: 8.8372e-05\n",
      "Epoch 10/50\n",
      "728/728 [==============================] - 3s 4ms/step - loss: 1.7929e-04 - val_loss: 8.8595e-05\n",
      "Epoch 11/50\n",
      "728/728 [==============================] - 3s 4ms/step - loss: 1.7862e-04 - val_loss: 9.0752e-05\n",
      "Epoch 12/50\n",
      "728/728 [==============================] - 3s 4ms/step - loss: 1.7928e-04 - val_loss: 8.8454e-05\n",
      "Epoch 13/50\n",
      "728/728 [==============================] - 3s 4ms/step - loss: 1.7839e-04 - val_loss: 8.7866e-05\n",
      "Epoch 14/50\n",
      "728/728 [==============================] - 3s 4ms/step - loss: 1.7676e-04 - val_loss: 9.0750e-05\n",
      "Epoch 15/50\n",
      "728/728 [==============================] - 3s 4ms/step - loss: 1.7757e-04 - val_loss: 8.7029e-05\n",
      "Epoch 16/50\n",
      "728/728 [==============================] - 3s 4ms/step - loss: 1.7593e-04 - val_loss: 8.7193e-05\n",
      "Epoch 17/50\n",
      "728/728 [==============================] - 3s 4ms/step - loss: 1.7578e-04 - val_loss: 9.1398e-05\n",
      "Epoch 18/50\n",
      "728/728 [==============================] - 3s 4ms/step - loss: 1.7621e-04 - val_loss: 8.6952e-05\n",
      "Epoch 19/50\n",
      "728/728 [==============================] - 3s 4ms/step - loss: 1.7523e-04 - val_loss: 9.2168e-05\n",
      "Epoch 20/50\n",
      "728/728 [==============================] - 3s 4ms/step - loss: 1.7512e-04 - val_loss: 8.7584e-05\n",
      "Epoch 21/50\n",
      "728/728 [==============================] - 3s 4ms/step - loss: 1.7556e-04 - val_loss: 8.8726e-05\n",
      "Epoch 22/50\n",
      "728/728 [==============================] - 3s 4ms/step - loss: 1.7499e-04 - val_loss: 8.8939e-05\n",
      "Epoch 23/50\n",
      "728/728 [==============================] - 3s 4ms/step - loss: 1.7410e-04 - val_loss: 8.8455e-05\n",
      "Epoch 24/50\n",
      "728/728 [==============================] - 3s 4ms/step - loss: 1.7452e-04 - val_loss: 9.0279e-05\n",
      "Epoch 25/50\n",
      "728/728 [==============================] - 3s 4ms/step - loss: 1.7476e-04 - val_loss: 8.7851e-05\n",
      "Epoch 26/50\n",
      "728/728 [==============================] - 3s 4ms/step - loss: 1.7323e-04 - val_loss: 8.9159e-05\n",
      "Epoch 27/50\n",
      "728/728 [==============================] - 3s 4ms/step - loss: 1.7376e-04 - val_loss: 9.1019e-05\n",
      "Epoch 28/50\n",
      "728/728 [==============================] - 3s 4ms/step - loss: 1.7356e-04 - val_loss: 8.7879e-05\n",
      "Epoch 29/50\n",
      "728/728 [==============================] - 3s 4ms/step - loss: 1.7243e-04 - val_loss: 8.8922e-05\n",
      "Epoch 30/50\n",
      "728/728 [==============================] - 3s 4ms/step - loss: 1.7250e-04 - val_loss: 8.8846e-05\n",
      "Epoch 31/50\n",
      "728/728 [==============================] - 3s 4ms/step - loss: 1.7262e-04 - val_loss: 8.9937e-05\n",
      "Epoch 32/50\n",
      "728/728 [==============================] - 3s 4ms/step - loss: 1.7169e-04 - val_loss: 9.1287e-05\n",
      "Epoch 33/50\n",
      "728/728 [==============================] - 3s 4ms/step - loss: 1.7194e-04 - val_loss: 9.3489e-05\n",
      "Epoch 34/50\n",
      "728/728 [==============================] - 3s 4ms/step - loss: 1.7209e-04 - val_loss: 8.8713e-05\n",
      "Epoch 35/50\n",
      "728/728 [==============================] - 2s 3ms/step - loss: 1.7152e-04 - val_loss: 8.8769e-05\n",
      "Epoch 36/50\n",
      "728/728 [==============================] - 3s 4ms/step - loss: 1.6987e-04 - val_loss: 8.8094e-05\n",
      "Epoch 37/50\n",
      "728/728 [==============================] - 3s 4ms/step - loss: 1.6984e-04 - val_loss: 9.4079e-05\n",
      "Epoch 38/50\n",
      "728/728 [==============================] - 3s 4ms/step - loss: 1.6928e-04 - val_loss: 9.0204e-05\n",
      "Epoch 39/50\n",
      "728/728 [==============================] - 3s 4ms/step - loss: 1.6911e-04 - val_loss: 8.7967e-05\n",
      "Epoch 40/50\n",
      "728/728 [==============================] - 3s 4ms/step - loss: 1.6874e-04 - val_loss: 9.0077e-05\n",
      "Epoch 41/50\n",
      "728/728 [==============================] - 4s 6ms/step - loss: 1.6788e-04 - val_loss: 9.1202e-05\n",
      "Epoch 42/50\n",
      "728/728 [==============================] - 3s 4ms/step - loss: 1.6469e-04 - val_loss: 9.1483e-05\n",
      "Epoch 43/50\n",
      "728/728 [==============================] - 3s 4ms/step - loss: 1.6406e-04 - val_loss: 8.9747e-05\n",
      "Epoch 44/50\n",
      "728/728 [==============================] - 3s 5ms/step - loss: 1.6530e-04 - val_loss: 9.1329e-05\n",
      "Epoch 45/50\n",
      "728/728 [==============================] - 3s 4ms/step - loss: 1.6316e-04 - val_loss: 1.0672e-04\n",
      "Epoch 46/50\n",
      "728/728 [==============================] - 4s 5ms/step - loss: 1.6009e-04 - val_loss: 9.2461e-05\n",
      "Epoch 47/50\n",
      "728/728 [==============================] - 3s 4ms/step - loss: 1.5665e-04 - val_loss: 9.3801e-05\n",
      "Epoch 48/50\n",
      "728/728 [==============================] - 3s 4ms/step - loss: 1.5959e-04 - val_loss: 9.5618e-05\n",
      "Epoch 49/50\n",
      "728/728 [==============================] - 3s 4ms/step - loss: 1.5536e-04 - val_loss: 9.2026e-05\n",
      "Epoch 50/50\n",
      "728/728 [==============================] - 3s 4ms/step - loss: 1.5600e-04 - val_loss: 1.0725e-04\n",
      "182/182 [==============================] - 1s 2ms/step\n"
     ]
    }
   ],
   "source": [
    "# Train the model\n",
    "model.fit(X_train, y_train, epochs=50, batch_size=32, validation_data=(X_test, y_test))\n",
    "\n",
    "# Make predictions\n",
    "predicted_sales = model.predict(X_test)\n",
    "\n",
    "# Inverse transform predictions to original scale\n",
    "predicted_sales_original_scale = scaler.inverse_transform(np.reshape(predicted_sales, (predicted_sales.shape[0], 1)))"
   ]
  },
  {
   "cell_type": "markdown",
   "metadata": {},
   "source": [
    "## EVALUATING THE MODEL"
   ]
  },
  {
   "cell_type": "code",
   "execution_count": 79,
   "metadata": {},
   "outputs": [
    {
     "name": "stdout",
     "output_type": "stream",
     "text": [
      "Mean Squared Error: 0.00010724634449639545\n"
     ]
    }
   ],
   "source": [
    "from sklearn.metrics import mean_squared_error\n",
    "\n",
    "mse = mean_squared_error(y_test, predicted_sales)\n",
    "print(f\"Mean Squared Error: {mse}\")"
   ]
  }
 ],
 "metadata": {
  "kernelspec": {
   "display_name": "Python 3",
   "language": "python",
   "name": "python3"
  },
  "language_info": {
   "codemirror_mode": {
    "name": "ipython",
    "version": 3
   },
   "file_extension": ".py",
   "mimetype": "text/x-python",
   "name": "python",
   "nbconvert_exporter": "python",
   "pygments_lexer": "ipython3",
   "version": "3.11.4"
  },
  "orig_nbformat": 4
 },
 "nbformat": 4,
 "nbformat_minor": 2
}
